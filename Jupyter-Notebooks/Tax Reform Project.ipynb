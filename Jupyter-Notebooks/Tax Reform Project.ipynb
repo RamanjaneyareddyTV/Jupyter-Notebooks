{
 "cells": [
  {
   "cell_type": "markdown",
   "metadata": {},
   "source": [
    "# Independence test \n",
    "\n",
    "Test the hypothesis of independence of two variables of classification.\n",
    "Suppose that we wish to determine whether the opinions of the voting residents of the state of Illinois concerning a new tax reform are independent of their levels of income. A random sample of 1000 registered voters from the state of Illinois are classified as to whether they are in a low, medium, or high income bracket and whether or not they favor a new tax reform.\n"
   ]
  },
  {
   "cell_type": "code",
   "execution_count": 5,
   "metadata": {},
   "outputs": [
    {
     "ename": "ModuleNotFoundError",
     "evalue": "No module named 'plotly'",
     "output_type": "error",
     "traceback": [
      "\u001b[1;31m---------------------------------------------------------------------------\u001b[0m",
      "\u001b[1;31mModuleNotFoundError\u001b[0m                       Traceback (most recent call last)",
      "\u001b[1;32m<ipython-input-5-22c3d2c39b8b>\u001b[0m in \u001b[0;36m<module>\u001b[1;34m\u001b[0m\n\u001b[0;32m      1\u001b[0m \u001b[1;32mimport\u001b[0m \u001b[0mmatplotlib\u001b[0m\u001b[1;33m.\u001b[0m\u001b[0mpyplot\u001b[0m \u001b[1;32mas\u001b[0m \u001b[0mplt\u001b[0m\u001b[1;33m\u001b[0m\u001b[1;33m\u001b[0m\u001b[0m\n\u001b[1;32m----> 2\u001b[1;33m \u001b[1;32mimport\u001b[0m \u001b[0mplotly\u001b[0m\u001b[1;33m.\u001b[0m\u001b[0mgraph_objects\u001b[0m \u001b[1;32mas\u001b[0m \u001b[0mgo\u001b[0m \u001b[1;31m#For the graph\u001b[0m\u001b[1;33m\u001b[0m\u001b[1;33m\u001b[0m\u001b[0m\n\u001b[0m\u001b[0;32m      3\u001b[0m \u001b[1;32mfrom\u001b[0m \u001b[0mscipy\u001b[0m \u001b[1;32mimport\u001b[0m \u001b[0mstats\u001b[0m \u001b[1;31m#For the chi-squared distribution graph\u001b[0m\u001b[1;33m\u001b[0m\u001b[1;33m\u001b[0m\u001b[0m\n\u001b[0;32m      4\u001b[0m \u001b[1;32mimport\u001b[0m \u001b[0mnumpy\u001b[0m \u001b[1;32mas\u001b[0m \u001b[0mnp\u001b[0m \u001b[1;31m#For the arrays\u001b[0m\u001b[1;33m\u001b[0m\u001b[1;33m\u001b[0m\u001b[0m\n\u001b[0;32m      5\u001b[0m \u001b[1;32mimport\u001b[0m \u001b[0mpandas\u001b[0m \u001b[1;32mas\u001b[0m \u001b[0mpd\u001b[0m \u001b[1;31m#For the data frame\u001b[0m\u001b[1;33m\u001b[0m\u001b[1;33m\u001b[0m\u001b[0m\n",
      "\u001b[1;31mModuleNotFoundError\u001b[0m: No module named 'plotly'"
     ]
    }
   ],
   "source": [
    "import matplotlib.pyplot as plt\n",
    "import plotly.graph_objects as go #For the graph\n",
    "from scipy import stats #For the chi-squared distribution graph\n",
    "import numpy as np #For the arrays\n",
    "import pandas as pd #For the data frame\n",
    "%matplotlib inline"
   ]
  },
  {
   "cell_type": "code",
   "execution_count": null,
   "metadata": {},
   "outputs": [],
   "source": [
    "data = pd.read_csv(\"data.csv\") #Upload the csv \n",
    "data.head() #Shows the first 5 elements of the cvs"
   ]
  },
  {
   "cell_type": "markdown",
   "metadata": {},
   "source": [
    "## Contingency table\n",
    "\n",
    "A contingency table with r rows and c columns is referred to as an r x c table (\"r x c\" is read \"r by c\"). The row and column totals in Table 10.6 are called marginal frequencies.\n",
    "The observed frequencies are presented in the table which is known as a contingency table."
   ]
  },
  {
   "cell_type": "code",
   "execution_count": null,
   "metadata": {},
   "outputs": [],
   "source": [
    "#Create a contingency tables of the variables Income and Tax Reform\n",
    "contingency_table = pd.crosstab(data['Tax Reform'],data['Income'],margins = True, margins_name=\"Total\") #Change the margin name from teh default \"All\" to \"Total\"\n",
    "contingency_table #Shows the table"
   ]
  },
  {
   "cell_type": "markdown",
   "metadata": {},
   "source": [
    "## Stacked bar chart for the contingency table\n",
    "\n",
    "A stacked bar graph (or stacked bar chart)  is a chart that uses bars to show comparisons between categories of data, but with ability to break down and compare parts of a whole. Each bar in the chart represents a whole, and segments in the bar represent different parts or categories of that whole.\n",
    "\n",
    "Stacked bars do a good job of featuring the total and also providing a hint as to how the total for each category value is divided into parts."
   ]
  },
  {
   "cell_type": "code",
   "execution_count": null,
   "metadata": {},
   "outputs": [],
   "source": [
    "#Creating a stack bar chart to visualize better how the data is \n",
    "Income = [\"Low-Income\", \"Medium-Income\", \"High-Income\"] #The x labels\n",
    "\n",
    "#Do a stacked bar with plotly\n",
    "fig = go.Figure(data=[go.Bar(name=\"For\", x = Income, y = [182, 213, 203], marker_color =\"peachpuff\"), go.Bar(name=\"Against\", \n",
    "x = Income, y = [154, 138, 110], marker_color = \"lightpink\")])\n",
    "\n",
    "# Change the bar mode and add a tittle\n",
    "fig.update_layout(barmode='stack', title_text='Tax Reform')"
   ]
  },
  {
   "cell_type": "markdown",
   "metadata": {},
   "source": [
    "## Expected Values\n",
    "\n",
    "To find these expected frequencies, let us define the following events:\n",
    "\n",
    "```\n",
    "L: A person selected is in the low-income level.\n",
    "M: A person selected is in the medium-income level.\n",
    "H: A person selected is in the high-income level.\n",
    "F: A person selected is for the new tax reform.\n",
    "A: A person selected is against the new tax reform.\n",
    "```\n",
    "By using the marginal frequencies, we can list the following probability estimates:"
   ]
  },
  {
   "cell_type": "code",
   "execution_count": null,
   "metadata": {},
   "outputs": [],
   "source": [
    "#The total of the sum of all the variables\n",
    "Total = contingency_table.loc[\"Total\", \"Total\"] #The loc is for selecting data by label\n",
    "\n",
    "#Creating the probabilities of each case which is the value divided to the total\n",
    "column_total = contingency_table.iloc[2,0:3].values #The iloc Selecting data by position/number. List of rows: [2,3] and slices: [0:2].\n",
    "L = column_total[1]/Total \n",
    "M = column_total[2]/Total\n",
    "H = column_total[0]/Total\n",
    "\n",
    "row_total = contingency_table.iloc[0:2,3].values #The .values takes all the elements in that specific position\n",
    "F = row_total[1]/Total\n",
    "A = row_total[0]/Total\n",
    "\n",
    "print(\"PROBABILITIES:\")\n",
    "print(\"P(L) =\", L)\n",
    "print(\"P(M) =\", M)\n",
    "print(\"P(H) =\", H)\n",
    "print(\"P(F) =\", F)\n",
    "print(\"P(A) =\", A)"
   ]
  },
  {
   "cell_type": "markdown",
   "metadata": {},
   "source": [
    "Now, if **Ho** is true and the two variables arc independent, we should have"
   ]
  },
  {
   "cell_type": "code",
   "execution_count": 6,
   "metadata": {},
   "outputs": [
    {
     "ename": "NameError",
     "evalue": "name 'L' is not defined",
     "output_type": "error",
     "traceback": [
      "\u001b[1;31m---------------------------------------------------------------------------\u001b[0m",
      "\u001b[1;31mNameError\u001b[0m                                 Traceback (most recent call last)",
      "\u001b[1;32m<ipython-input-6-3d26ce02f587>\u001b[0m in \u001b[0;36m<module>\u001b[1;34m\u001b[0m\n\u001b[0;32m      1\u001b[0m \u001b[1;31m#In statistics if two varibles are independent their intersection must be the same as their multiplication\u001b[0m\u001b[1;33m\u001b[0m\u001b[1;33m\u001b[0m\u001b[1;33m\u001b[0m\u001b[0m\n\u001b[1;32m----> 2\u001b[1;33m \u001b[0mprint\u001b[0m\u001b[1;33m(\u001b[0m\u001b[1;34m\"P(L∩F) = P(L)P(F) = {0:.3f}\"\u001b[0m \u001b[1;33m.\u001b[0m\u001b[0mformat\u001b[0m\u001b[1;33m(\u001b[0m\u001b[0mL\u001b[0m\u001b[1;33m*\u001b[0m\u001b[0mF\u001b[0m\u001b[1;33m)\u001b[0m\u001b[1;33m)\u001b[0m\u001b[1;33m\u001b[0m\u001b[1;33m\u001b[0m\u001b[0m\n\u001b[0m\u001b[0;32m      3\u001b[0m \u001b[0mprint\u001b[0m\u001b[1;33m(\u001b[0m\u001b[1;34m\"P(L∩A) = P(L)P(A) = {0:.3f}\"\u001b[0m \u001b[1;33m.\u001b[0m\u001b[0mformat\u001b[0m\u001b[1;33m(\u001b[0m\u001b[0mL\u001b[0m\u001b[1;33m*\u001b[0m\u001b[0mA\u001b[0m\u001b[1;33m)\u001b[0m\u001b[1;33m)\u001b[0m\u001b[1;33m\u001b[0m\u001b[1;33m\u001b[0m\u001b[0m\n\u001b[0;32m      4\u001b[0m \u001b[0mprint\u001b[0m\u001b[1;33m(\u001b[0m\u001b[1;34m\"P(M∩F) = P(M)P(F) = {0:.3f}\"\u001b[0m \u001b[1;33m.\u001b[0m\u001b[0mformat\u001b[0m\u001b[1;33m(\u001b[0m\u001b[0mM\u001b[0m\u001b[1;33m*\u001b[0m\u001b[0mF\u001b[0m\u001b[1;33m)\u001b[0m\u001b[1;33m)\u001b[0m\u001b[1;33m\u001b[0m\u001b[1;33m\u001b[0m\u001b[0m\n\u001b[0;32m      5\u001b[0m \u001b[0mprint\u001b[0m\u001b[1;33m(\u001b[0m\u001b[1;34m\"P(M∩A) = P(M)P(A) = {0:.3f}\"\u001b[0m \u001b[1;33m.\u001b[0m\u001b[0mformat\u001b[0m\u001b[1;33m(\u001b[0m\u001b[0mM\u001b[0m\u001b[1;33m*\u001b[0m\u001b[0mA\u001b[0m\u001b[1;33m)\u001b[0m\u001b[1;33m)\u001b[0m\u001b[1;33m\u001b[0m\u001b[1;33m\u001b[0m\u001b[0m\n",
      "\u001b[1;31mNameError\u001b[0m: name 'L' is not defined"
     ]
    }
   ],
   "source": [
    "#In statistics if two varibles are independent their intersection must be the same as their multiplication\n",
    "print(\"P(L∩F) = P(L)P(F) = {0:.3f}\" .format(L*F))\n",
    "print(\"P(L∩A) = P(L)P(A) = {0:.3f}\" .format(L*A))\n",
    "print(\"P(M∩F) = P(M)P(F) = {0:.3f}\" .format(M*F))\n",
    "print(\"P(M∩A) = P(M)P(A) = {0:.3f}\" .format(M*A))\n",
    "print(\"P(H∩F) = P(H)P(F) = {0:.3f}\" .format(H*F))\n",
    "print(\"P(H∩A) = P(H)P(A) = {0:.3f}\" .format(H*A))"
   ]
  },
  {
   "cell_type": "markdown",
   "metadata": {},
   "source": [
    "### The expected frequencies \n",
    "\n",
    "Are obtained by multiplying each cell probability by the total number of observations, when **Ho** is true. The general rule for obtaining the expected frequency of any cell\n",
    "is given by the following formula: expected frequency = (column total) x (row total) / grand total."
   ]
  },
  {
   "cell_type": "code",
   "execution_count": null,
   "metadata": {},
   "outputs": [],
   "source": [
    "expected_frequency = [] #A list to save the expected frequencies\n",
    "for j in range(2):\n",
    "    for i in column_total:\n",
    "        expected_frequency.append(i*row_total[j]/Total) #Adds to the list the total of a column x row total / Total\n",
    "expected_frequency #Shows a list with the expected values"
   ]
  },
  {
   "cell_type": "markdown",
   "metadata": {},
   "source": [
    "## Observed Frequency\n",
    "\n",
    "The observed frequencies are presented in the table, which is known as a contingency table."
   ]
  },
  {
   "cell_type": "code",
   "execution_count": null,
   "metadata": {},
   "outputs": [],
   "source": [
    "#Creates an array with numpy that add specifically the inside values of each varibles\n",
    "observed_frequency = np.append(contingency_table.iloc[0][0:3].values, contingency_table.iloc[1][0:3].values)\n",
    "observed_frequency #Shows the array"
   ]
  },
  {
   "cell_type": "markdown",
   "metadata": {},
   "source": [
    "## Degrees of Freedom\n",
    "\n",
    "The number of degrees of freedom associated with\n",
    "the chi-squared test used here is equal to the number of cell frequencies that may\n",
    "be filled in freely when we are given the marginal totals and the grand total, and in\n",
    "this illustration that number is 2. A simple formula providing the correct number\n",
    "of degrees of freedom is\n",
    "u = ( r - 1 ) ( c - 1 ) ."
   ]
  },
  {
   "cell_type": "code",
   "execution_count": null,
   "metadata": {},
   "outputs": [],
   "source": [
    "#We use the specific formula for the degrees of freedom in wich we use the lenght of the rows and columns and we multiply them\n",
    "u = (len(row_total)-1)*(len(column_total)-1)\n",
    "print(\"Degrees of Freedom: {}\".format(u))"
   ]
  },
  {
   "cell_type": "markdown",
   "metadata": {},
   "source": [
    "## The Null and Alternate Hypotheses\n",
    "\n",
    "Our decision to accept or reject the null hypothesis, **Ho**, of independence between a voter's opinion concerning the new tax reform and his or her level of income is based upon how good a fit we have between the observed frequencies in each of the 6 cells of the table and the frequencies that we would expect for each cell under the assumption that **Ho** is true.\n",
    "\n",
    "To test the null hypothesis of independence, we use the following decision criteria: \n",
    "\n",
    "$$X^2 = \\sum \\frac{oi - ei^2}{ei}$$\n",
    "\n",
    "where the summation extends over all re cells in the r x c contingency table. If $$X^2 > X^2a$$ with u = (r - 1)(c - 1) degrees of freedom, reject the null hypothesis of independence at the a level of significance; otherwise, fail to reject the null\n",
    "hypothesis."
   ]
  },
  {
   "cell_type": "code",
   "execution_count": null,
   "metadata": {},
   "outputs": [],
   "source": [
    "#Summation for the decision criteria, rembeber that both our observed and expected values are arrays\n",
    "chi_squared = ((observed_frequency - expected_frequency)**2/expected_frequency).sum()\n",
    "chi_squared #Shows the float result"
   ]
  },
  {
   "cell_type": "markdown",
   "metadata": {},
   "source": [
    "## The chi-squared distribution\n",
    "\n",
    "From the chi squared table we find that $$X^2 0.05 = 5.991$$ for u = (2 - 1)(3 - 1) = 2 degrees of freedom and a 95% trust level meaning an alpha of = 0.05"
   ]
  },
  {
   "cell_type": "code",
   "execution_count": null,
   "metadata": {},
   "outputs": [],
   "source": [
    "#Recreat a chi-squared distribution for 2 degrees of freedom showing where the Ho was null\n",
    "x = np.linspace(0, 10, 100)\n",
    "fig,ax = plt.subplots(1,1)\n",
    "\n",
    "linestyles = ['-']\n",
    "deg_of_freedom = [2]\n",
    "for df, ls in zip(deg_of_freedom, linestyles):\n",
    "  ax.plot(x, stats.chi2.pdf(x, df), linestyle=ls)\n",
    "\n",
    "ax.text(4,.25, 'Degrees of freedom = 2')\n",
    "\n",
    "plt.annotate('chi-squared result = 7.87', xy=(7.87, .05), xytext=(6,.10), arrowprops=dict(facecolor='pink', shrink=0.005))\n",
    "\n",
    "plt.annotate('Critical chi-squared = 5.991', xy=(5.991,0), xytext=(5.991,.04), arrowprops=dict(facecolor='black', shrink=0.05))\n",
    "\n",
    "plt.xlim(0, 10)\n",
    "plt.ylim(0, 0.4)\n",
    "\n",
    "plt.xlabel('Value')\n",
    "plt.ylabel('Frequency')\n",
    "plt.title('Chi-Square Distribution')\n",
    "\n",
    "plt.legend()\n",
    "plt.show()"
   ]
  },
  {
   "cell_type": "markdown",
   "metadata": {},
   "source": [
    "## Conclusion\n",
    "\n",
    "The null hypothesis is rejected and we conclude that a voter's opinion concerning the new tax reform and his or her level of income are not independent.\n",
    "It is important to remember that the statistic on which we base our decision\n",
    "has a distribution that is only approximated by the chi-squared distribution. The\n",
    "computed x2-values depend on the cell frequencies and consequently are discrete."
   ]
  },
  {
   "cell_type": "code",
   "execution_count": null,
   "metadata": {},
   "outputs": [],
   "source": []
  }
 ],
 "metadata": {
  "kernelspec": {
   "display_name": "Python 3",
   "language": "python",
   "name": "python3"
  },
  "language_info": {
   "codemirror_mode": {
    "name": "ipython",
    "version": 3
   },
   "file_extension": ".py",
   "mimetype": "text/x-python",
   "name": "python",
   "nbconvert_exporter": "python",
   "pygments_lexer": "ipython3",
   "version": "3.7.1"
  }
 },
 "nbformat": 4,
 "nbformat_minor": 2
}
