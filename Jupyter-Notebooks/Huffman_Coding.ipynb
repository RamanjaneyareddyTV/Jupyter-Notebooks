{
 "cells": [
  {
   "cell_type": "code",
   "execution_count": 90,
   "metadata": {},
   "outputs": [],
   "source": [
    "# Get the magic libraries\n",
    "from heapq import heappush, heappop, heapify\n",
    "from collections import defaultdict\n",
    "from collections import Counter"
   ]
  },
  {
   "cell_type": "markdown",
   "metadata": {},
   "source": [
    "## Function"
   ]
  },
  {
   "cell_type": "code",
   "execution_count": 91,
   "metadata": {},
   "outputs": [],
   "source": [
    "def encode(Char_and_Frecuency):\n",
    "    \n",
    "    heap = [[wt, [sym, \"\"]] for sym, wt in Char_and_Frecuency.items()]\n",
    "    heapify(heap)\n",
    "    while len(heap) > 1:\n",
    "        lo = heappop(heap)\n",
    "        hi = heappop(heap)\n",
    "        \n",
    "        for pair in lo[1:]:\n",
    "            pair[1] = '0' + pair[1]\n",
    "            \n",
    "        for pair in hi[1:]:\n",
    "            pair[1] = '1' + pair[1]\n",
    "            \n",
    "        heappush(heap, [lo[0] + hi[0]] + lo[1:] + hi[1:])\n",
    "    return sorted(heappop(heap)[1:], key=lambda p: (len(p[-1]), p))"
   ]
  },
  {
   "cell_type": "markdown",
   "metadata": {},
   "source": [
    "## Text "
   ]
  },
  {
   "cell_type": "code",
   "execution_count": 92,
   "metadata": {},
   "outputs": [],
   "source": [
    "\n",
    "texto = \"Empty spaces, what are we living for?Abandoned places, I guess we know the score, on and onDoes anybody know what we are looking for?Another hero, another mindless crimeBehind the curtain,in the pantomimeHold the lineDoes anybody want to take it anymore?The show must go onThe show must go on, yeahInside my heart is breakingMy makeup may be flakingBut my smile, still, stays onWhatever happens, I'll leave it all to chanceAnother heartache, another failed romance, on and onDoes anybody know what we are living for?I guess I'm learningI must be warmer nowI'll soon be turning, round the corner nowOutside the dawn is breakingBut inside in the dark I'm aching to be freeThe show mustgo onThe show must go onInside my heart is breakingMy makeup may be flakingBut my smile, still, stays onMy soul is painted like the wings of butterfliesFairy tales of yesterday, grow but never dieI can fly, my friendsThe show must go onThe show must go onI'll face it with a grinI'm never giving inOn with the showI'll top the billI'll overkillI have to find the will to carry onOn with the showShowShow must go on, go on, go on, go on, go on, go on, go on, go on\"\n"
   ]
  },
  {
   "cell_type": "markdown",
   "metadata": {},
   "source": [
    "## Table"
   ]
  },
  {
   "cell_type": "code",
   "execution_count": 93,
   "metadata": {},
   "outputs": [
    {
     "name": "stdout",
     "output_type": "stream",
     "text": [
      "Char\tFrec\tHuffman Code\n",
      " \t199\t111\n",
      "a\t58\t0100\n",
      "e\t96\t1101\n",
      "h\t50\t0001\n",
      "i\t56\t0011\n",
      "n\t81\t1001\n",
      "o\t87\t1011\n",
      "s\t53\t0010\n",
      "t\t63\t0111\n",
      "g\t32\t10001\n",
      "l\t41\t10100\n",
      "m\t30\t01100\n",
      "r\t43\t11000\n",
      "w\t31\t10000\n",
      "y\t26\t00001\n",
      ",\t23\t110010\n",
      "I\t15\t010110\n",
      "b\t15\t010111\n",
      "c\t14\t010100\n",
      "d\t23\t110011\n",
      "f\t14\t010101\n",
      "k\t15\t011010\n",
      "u\t22\t101011\n",
      "'\t8\t0110110\n",
      "T\t6\t0000010\n",
      "p\t10\t1010101\n",
      "v\t9\t1010100\n",
      "?\t4\t00000111\n",
      "A\t3\t00000001\n",
      "B\t4\t01101110\n",
      "D\t3\t00000010\n",
      "M\t3\t00000011\n",
      "O\t3\t00000110\n",
      "S\t2\t00000000\n",
      "E\t1\t0110111100\n",
      "F\t1\t0110111101\n",
      "H\t1\t0110111110\n",
      "W\t1\t0110111111\n"
     ]
    }
   ],
   "source": [
    "# Dictionary\n",
    "Char_and_Frecuency = Counter(texto)\n",
    "\n",
    "# list of lists\n",
    "huff = encode(Char_and_Frecuency)\n",
    "\n",
    "print(\"Char\\tFrec\\tHuffman Code\")\n",
    "for p in huff:\n",
    "    print(\"%s\\t%s\\t%s\" % (p[0], Char_and_Frecuency[p[0]], p[1]))"
   ]
  },
  {
   "cell_type": "markdown",
   "metadata": {},
   "source": [
    "## Comparation"
   ]
  },
  {
   "cell_type": "code",
   "execution_count": 102,
   "metadata": {},
   "outputs": [
    {
     "name": "stdout",
     "output_type": "stream",
     "text": [
      "Original Size \tEncoded Size\n",
      "     9168 \t    5081\n"
     ]
    }
   ],
   "source": [
    "Encoded_Size = 0\n",
    "for i in huff:\n",
    "    Multiplication = Char_and_Frecuency[i[0]]*len(i[1])\n",
    "    Encoded_Size += Multiplication\n",
    "    \n",
    "    \n",
    "Original_Size = 0\n",
    "for i in huff:\n",
    "    Multiplication_2 = Char_and_Frecuency[i[0]]*8\n",
    "    Original_Size += Multiplication_2\n",
    "\n",
    "print(\"Original Size \\tEncoded Size\")\n",
    "print(\"    \", Original_Size,\"\\t   \", Encoded_Size)"
   ]
  },
  {
   "cell_type": "code",
   "execution_count": null,
   "metadata": {},
   "outputs": [],
   "source": []
  }
 ],
 "metadata": {
  "kernelspec": {
   "display_name": "Python 3",
   "language": "python",
   "name": "python3"
  },
  "language_info": {
   "codemirror_mode": {
    "name": "ipython",
    "version": 3
   },
   "file_extension": ".py",
   "mimetype": "text/x-python",
   "name": "python",
   "nbconvert_exporter": "python",
   "pygments_lexer": "ipython3",
   "version": "3.7.1"
  }
 },
 "nbformat": 4,
 "nbformat_minor": 2
}
