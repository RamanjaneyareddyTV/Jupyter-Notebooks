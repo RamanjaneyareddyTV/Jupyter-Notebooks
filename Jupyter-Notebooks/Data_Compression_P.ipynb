{
 "cells": [
  {
   "cell_type": "markdown",
   "metadata": {},
   "source": [
    "***\n",
    "<center> <h1> Lossless Compression Algorithms\n",
    "    \n",
    "*** "
   ]
  },
  {
   "cell_type": "markdown",
   "metadata": {},
   "source": [
    "## Authors\n",
    "+ Samuel Isaac Venegas Santamaria\n",
    "+ Guillermo Antonio Montes de Oca\n",
    "\n",
    "----------------------"
   ]
  },
  {
   "cell_type": "markdown",
   "metadata": {},
   "source": [
    "# Index\n",
    "1. [Introduction](#Introduction)\n",
    "2. [Huffman Encoding](#Huffman_Encoding)\n",
    "3. [Methodology](#Methodology)\n",
    "    + [Huffman Algorithm](#Huffman_Algorithm)\n",
    "    + [Input String](#Input_string)\n",
    "4. [Results](#Results)\n",
    "    + [Huffman](#Huffman)\n",
    "    + [Zlib](#Zlib)\n",
    "    + [LZ4](#LZ4)\n",
    "    + [BZ2](#BZ2)\n",
    "5. [Comparison](#Comparison)\n",
    "6. [Conclusion](#Conclusion)\n",
    "7. [References](#References)\n",
    "\n",
    "-----------------------"
   ]
  },
  {
   "cell_type": "markdown",
   "metadata": {},
   "source": [
    "# Introduction  <a name=\"Introduction\"></a>\n",
    "Data Science is intrinsically data-driven, where many interdisciplinary sciences are applied together to extract meaning and insights from available business data. As businesses get increasingly data-dependent, the importance of Data Science as the ultimate decision-making. Nowadays, the volume of data that is considered relevant to businesses is increasing quickly year-over-year, and as the functional quality of data increases, storage capacity concerns have to be resolved. That is why most businesses rely on data compression, especially for those small and medium enterprises that need to optimized costs and resources. \n",
    "\n",
    "The main advantages of compression are reductions in storage hardware, data transmission time, and communication bandwidth. Compressed files require significantly less storage capacity than uncompressed files, meaning a significant decrease in expenses for storage. A compressed file also requires less time for transfer while consuming less network bandwidth, this also increases productivity. The data compression has been one of the enabling technologies for the on-going digital multimedia revolution for decades which resulted in renowned algorithms like Huffman Encoding or LZ77, considered as lossless data algorithms.\n",
    "\n",
    "----------------------------"
   ]
  },
  {
   "cell_type": "markdown",
   "metadata": {},
   "source": [
    "# Huffman Encoding <a name=\"Huffman_Encoding\"></a>\n",
    "\n",
    "In this method, the Huffman encoding algorithm is used to encode text data. The term refers to the use of a variable-length code table for encoding a source symbol (a character in a file) where the variable-length code table has been derived in a particular way based on the estimated probability of occurrence for each possible value of the source symbol. The principle is to use a lower number of bits to encode the data that occurs more frequently. The average length of a Huffman code depends on the statistical frequency with which the source produces each symbol from its alphabet.\n",
    "\n",
    "--------------------------------"
   ]
  },
  {
   "cell_type": "markdown",
   "metadata": {},
   "source": [
    "# Methodology  <a name=\"Methodology\"></a>\n",
    "\n",
    "\n",
    "In order to optimaze the storage for databases, we are to use four lossless compression algorithms (including our Huffman algorithm) to reduce the size of an input text. Then, compare the results sizes and conclude which one is the best for usability. Also, in the [Results](#Results) section will be shown an approximation of the time it takes for each loop, and how many loops it takes each one. Fortunately, apart from our algorithm ([Huffman](#Huffman_Algorithm)), Python&trade; contains the others as libraries. Thefore, the algorithms to use are:\n",
    "\n",
    "+ Huffman\n",
    "+ Zlib\n",
    "+ LZ4\n",
    "+ BZ2 \n",
    "\n",
    "----------------------"
   ]
  },
  {
   "cell_type": "code",
   "execution_count": 1,
   "metadata": {},
   "outputs": [],
   "source": [
    "import collections\n",
    "import heapq\n",
    "import zlib\n",
    "import lz4.frame\n",
    "import bz2\n",
    "import os\n",
    "import time\n",
    "import matplotlib.pyplot as plt\n",
    "import numpy as np"
   ]
  },
  {
   "cell_type": "markdown",
   "metadata": {},
   "source": [
    "### Huffman Algorithm  <a name=\"Huffman_Algorithm\"></a>"
   ]
  },
  {
   "cell_type": "code",
   "execution_count": 3,
   "metadata": {},
   "outputs": [],
   "source": [
    "class TreeNode(object):\n",
    "    def __init__(self, val=None, count=1, left=None, right=None, code = \"\"):\n",
    "        self.count = count\n",
    "        self.val = val\n",
    "        self.left = left\n",
    "        self.right = right\n",
    "        self.code = code\n",
    "\n",
    "    def leaf(self):\n",
    "        return not (self.left or self.right)\n",
    "\n",
    "    def __lt__(self, other):\n",
    "        return self.count < other.count\n",
    "\n",
    "    def __add__(self, other):\n",
    "        self.code = 0\n",
    "        other.code = 1\n",
    "        return TreeNode(None, self.count + other.count, self, other)\n",
    "\n",
    "    def __repr__(self):\n",
    "        return \"TreeNode(%r, %r)\" % (self.val, self.count)\n",
    "    \n",
    "    \n",
    "def HuffmanTree(text):\n",
    "    #Receives text, makes a tree and returns a dictionary\n",
    "\n",
    "    counter = collections.Counter(text)\n",
    "    heap = [TreeNode(item,count) for item,count in counter.items()]\n",
    "\n",
    "    heapq.heapify(heap)\n",
    "    \n",
    "    while len(heap) >= 2:\n",
    "        heapq.heappush(heap, heapq.heappop(heap) + heapq.heappop(heap))\n",
    "\n",
    "    tree = heap[0]    \n",
    "    return HuffmanTreeToCode(tree)\n",
    "\n",
    "def HuffmanTreeToCode(node, pfix=[]):\n",
    "    #Transverse trough the nodes in a tree, trasnlate to binary dictionary\n",
    "    \n",
    "    code = {}\n",
    "    if node:\n",
    "        pfix = pfix + [node.code]\n",
    "        if node.leaf():\n",
    "            code[node.val] = pfix\n",
    "        else:\n",
    "            code.update(HuffmanTreeToCode(node.left, pfix))\n",
    "            code.update(HuffmanTreeToCode(node.right, pfix))\n",
    "    return code\n",
    "\n",
    "\n",
    "def encrypt(text, code):\n",
    "    ##Encrypts the text with the given coding dictionary, using char as index key\n",
    "    \n",
    "    crypted = []\n",
    "    for char in text:\n",
    "        crypted.extend(code[char])\n",
    "\n",
    "    return \"\".join(str(v) for v in crypted)\n",
    "\n",
    "def decrypt(text, code):\n",
    "     ##Decrypts the text with the given coding dictionary.\n",
    "    cstring = \"\"\n",
    "    decrypted = []\n",
    "    \n",
    "    reversezip = dict(zip([\"\".join([str(j) for j in i]) for i in code.values()], code.keys()))\n",
    "\n",
    "    for c in text:\n",
    "        cstring += c\n",
    "        if cstring in reversezip:\n",
    "            decrypted.append(reversezip[cstring])\n",
    "            cstring = \"\"\n",
    "    return \"\".join(decrypted)\n",
    "\n",
    "def main(text):\n",
    "    start = time.time()\n",
    "    code = HuffmanTree(text)\n",
    "    crypted_text = encrypt(text, code)\n",
    "    end = time.time()\n",
    "    print(end - start) #this only demonstrates the loops work. %timeit provides better analysis\n",
    "    return crypted_text"
   ]
  },
  {
   "cell_type": "markdown",
   "metadata": {},
   "source": [
    "--------------------\n",
    "### Input string  <a name=\"Input_string\"></a>\n",
    "`Freddies_Message` contains our input to test the compression algorithms, but the following functions can't take strings as input, so `.encode()` must be used to encode the message "
   ]
  },
  {
   "cell_type": "code",
   "execution_count": 30,
   "metadata": {},
   "outputs": [
    {
     "name": "stdout",
     "output_type": "stream",
     "text": [
      "The input length is: 9488 bytes\n"
     ]
    }
   ],
   "source": [
    "Freddies_Message = \"Empty spaces, what are we living for? Abandoned places, I guess we know the score, on and on Does anybody know what we are looking for? Another hero, another mindless crime Behind the curtain, in the pantomime Hold the line Does anybody want to take it anymore? The show must go on The show must go on, yeah Inside my heart is breaking My makeup may be flaking But my smile, still, stays on Whatever happens, I'll leave it all to chance Another heartache, another failed romance, on and on Does anybody know what we are living for? I guess I'm learning I must be warmer now I'll soon be turning, round the corner now Outside the dawn is breaking But inside in the dark I'm aching to be free The show must go on The show must go on Inside my heart is breaking My makeup may be flaking But my smile, still, stays on My soul is painted like the wings of butterflies Fairy tales of yesterday, grow but never die I can fly, my friends The show must go on The show must go on I'll face it with a grin I'm never giving in On with the show I'll top the bill I'll overkill I have to find the will to carry on On with the show Show Show must go on, go on, go on, go on, go on, go on, go on, go on\"\n",
    "\n",
    "input_data = Freddies_Message.encode()\n",
    "print(\"The input length is: {} bytes\".format(len(encoded*8)))"
   ]
  },
  {
   "cell_type": "markdown",
   "metadata": {},
   "source": [
    "-----------------\n",
    "# Results  <a name=\"Results\"></a>\n",
    "\n",
    "We are to get results about every algorithm yield and compare them in order to conclude which one is the best for the application in compressing text data as it is stated in the [Methodology](#Methodology)"
   ]
  },
  {
   "cell_type": "markdown",
   "metadata": {},
   "source": [
    "### Huffman<a name=\"Huffman\"></a>"
   ]
  },
  {
   "cell_type": "code",
   "execution_count": 5,
   "metadata": {},
   "outputs": [
    {
     "name": "stdout",
     "output_type": "stream",
     "text": [
      "11.631493330001831\n",
      "12.272532939910889\n",
      "20.899744987487793\n",
      "14.83135986328125\n",
      "12.139934539794922\n",
      "13.404434204101562\n",
      "11.104682683944702\n",
      "11.098860502243042\n",
      "13.7 s ± 3.19 s per loop (mean ± std. dev. of 7 runs, 1 loop each)\n"
     ]
    }
   ],
   "source": [
    "%timeit main(input_data)"
   ]
  },
  {
   "cell_type": "code",
   "execution_count": 31,
   "metadata": {},
   "outputs": [
    {
     "name": "stdout",
     "output_type": "stream",
     "text": [
      "0.008001327514648438\n",
      "Huffman Algorithm resized the input to 5171 bytes\n"
     ]
    }
   ],
   "source": [
    "Huffman = main(input_data)\n",
    "Huffman_len = len(Huffman)\n",
    "print(\"Huffman Algorithm resized the input to {} bytes\".format(Huffman_len))"
   ]
  },
  {
   "cell_type": "markdown",
   "metadata": {},
   "source": [
    "### Zlib<a name=\"Zlib\"></a>"
   ]
  },
  {
   "cell_type": "code",
   "execution_count": 8,
   "metadata": {},
   "outputs": [
    {
     "name": "stdout",
     "output_type": "stream",
     "text": [
      "30.8 ms ± 1.7 ms per loop (mean ± std. dev. of 7 runs, 10 loops each)\n"
     ]
    }
   ],
   "source": [
    "%timeit zlib.compress(input_data, 6)"
   ]
  },
  {
   "cell_type": "code",
   "execution_count": 32,
   "metadata": {},
   "outputs": [
    {
     "name": "stdout",
     "output_type": "stream",
     "text": [
      "Zlib Algorithm resized the input to 498 bytes\n"
     ]
    }
   ],
   "source": [
    "Zlib_1 = zlib.compress(input_data, 6)\n",
    "Zlib_len = len(Zlib_1)\n",
    "print(\"Zlib Algorithm resized the input to {} bytes\".format(Zlib_len))"
   ]
  },
  {
   "cell_type": "markdown",
   "metadata": {},
   "source": [
    "### LZ4 <a name=\"LZ4\"></a>"
   ]
  },
  {
   "cell_type": "code",
   "execution_count": 11,
   "metadata": {},
   "outputs": [
    {
     "name": "stdout",
     "output_type": "stream",
     "text": [
      "788 µs ± 89.3 µs per loop (mean ± std. dev. of 7 runs, 1000 loops each)\n"
     ]
    }
   ],
   "source": [
    "%timeit lz4.frame.compress(input_data) "
   ]
  },
  {
   "cell_type": "code",
   "execution_count": 33,
   "metadata": {},
   "outputs": [
    {
     "name": "stdout",
     "output_type": "stream",
     "text": [
      "LZ4 Algorithm resized the input to 773 bytes\n"
     ]
    }
   ],
   "source": [
    "lz4_1 = lz4.frame.compress(input_data)\n",
    "lz4_1_len = len(lz4_1)\n",
    "print(\"LZ4 Algorithm resized the input to {} bytes\".format(lz4_1_len))"
   ]
  },
  {
   "cell_type": "markdown",
   "metadata": {},
   "source": [
    "### BZ2 <a name=\"BZ2\"></a>"
   ]
  },
  {
   "cell_type": "code",
   "execution_count": 14,
   "metadata": {},
   "outputs": [
    {
     "name": "stdout",
     "output_type": "stream",
     "text": [
      "4.7 s ± 258 ms per loop (mean ± std. dev. of 7 runs, 1 loop each)\n"
     ]
    }
   ],
   "source": [
    "%timeit bz2.compress(input_data)"
   ]
  },
  {
   "cell_type": "code",
   "execution_count": 34,
   "metadata": {},
   "outputs": [
    {
     "name": "stdout",
     "output_type": "stream",
     "text": [
      "BZ2 Algorithm resized the input to 9136 bytes\n"
     ]
    }
   ],
   "source": [
    "bz2_1 = bz2.compress(input_data)\n",
    "bz2_len = len(bz2_1)\n",
    "print(\"BZ2 Algorithm resized the input to {} bytes\".format(bz2_len))"
   ]
  },
  {
   "cell_type": "markdown",
   "metadata": {},
   "source": [
    "--------------------\n",
    "# Comparison <a name=\"Comparison\"></a>\n",
    "The plot shows how efficient are the algorithms: the less is the size of `reduzed size` bar, the better is considered the algorithm."
   ]
  },
  {
   "cell_type": "code",
   "execution_count": 50,
   "metadata": {},
   "outputs": [
    {
     "data": {
      "image/png": "[encoded data removed]",
      "text/plain": [
       "<Figure size 640x480 with 1 Axes>"
      ]
     },
     "metadata": {},
     "output_type": "display_data"
    }
   ],
   "source": [
    "labels = ['Huffman', 'Zlib', 'LZ4', 'BZ2']\n",
    "performance  = [Huffman_len, Zlib_len, lz4_1_len, bz2_len]\n",
    "input_size =len(encoded*8)\n",
    "Difference_of_Size = [int(input_size-Huffman_len), int(input_size-Zlib_len),\n",
    "               int(input_size-lz4_1_len), int(input_size-bz2_len)]\n",
    "\n",
    "width = 0.5       # the width of the bars: can also be len(x) sequence\n",
    "\n",
    "fig, ax = plt.subplots()\n",
    "\n",
    "ax.bar(labels, performance, width, label='Reduzed size', color = 'darkred')\n",
    "ax.bar(labels, Difference_of_Size, width, bottom=performance,\n",
    "       label='Original Input Size', color='lightcoral')\n",
    "\n",
    "ax.set_ylabel('Bytes')\n",
    "ax.set_xlabel('Algorithm')\n",
    "ax.set_title('Outputs size comparison')\n",
    "ax.legend(bbox_to_anchor=(1, 1.05))\n",
    "\n",
    "plt.show()"
   ]
  },
  {
   "cell_type": "markdown",
   "metadata": {},
   "source": [
    "--------------------\n",
    "# Conclusion  <a name=\"Conclusion\"></a>\n",
    "\n",
    "As we described, the objective of this is to compare the four algorithms (including our Huffman algorithm) in compressing text data to save storage as much as we can in databases. Given a text input of 9488 bytes, the graph shows that Zlib is the best algorithm to use in our case of application, reducing the text to 498 bytes (-94.7%).\n",
    "Our Huffman algorithm reduced the input text to 5171 bytes (-45%), concluding that it is a good compression, but not as efficient as the others in text compression. Therefore, it is not efficient in our application."
   ]
  },
  {
   "cell_type": "markdown",
   "metadata": {},
   "source": [
    "---------------------\n",
    "# References <a name=\"References\"></a>\n",
    "\n",
    "Nikhil Pawar. (2014). Effective Text Clustering Method Based on Huffman Encoding Algorithm. *International Journal of Science and Research (IJSR)*. *Volume 3*. Issue 12. Web site: https://www.ijsr.net/archive/v3i12/U1VCMTQ1NjE=.pdf\n",
    "\n",
    "\n",
    "Oswald, C. and Sivaselvan, B. (2018). Text and Image Compression based on Data Mining Perspective. *Data Science Journal*. 17. p.12. DOI: http://doi.org/10.5334/dsj-2018-012\n",
    "\n",
    "Programiz. (*n.d*). Huffman Coding. [Online]. Retrieved from web site: https://www.programiz.com/dsa/huffman-coding \n",
    "\n",
    "Python Software Foundation. (2020). Support for bzip2 compression. [Online]. Retrieved from https://docs.python.org/3/library/bz2.html  \n",
    "\n",
    "Python Software Foundation. (2020). LZ4 Bindings for Python. [Online]. Retrieved from https://pypi.org/project/lz4/  \n",
    "\n",
    "\n",
    "Python Software Foundation. (2020).Compression compatible with gzip. [Online]. Retrieved from https://docs.python.org/3/library/zlib.html  \n",
    "\n",
    "\n",
    "\n",
    "\n"
   ]
  },
  {
   "cell_type": "markdown",
   "metadata": {},
   "source": [
    "-------------------"
   ]
  }
 ],
 "metadata": {
  "kernelspec": {
   "display_name": "Python 3",
   "language": "python",
   "name": "python3"
  },
  "language_info": {
   "codemirror_mode": {
    "name": "ipython",
    "version": 3
   },
   "file_extension": ".py",
   "mimetype": "text/x-python",
   "name": "python",
   "nbconvert_exporter": "python",
   "pygments_lexer": "ipython3",
   "version": "3.7.1"
  }
 },
 "nbformat": 4,
 "nbformat_minor": 2
}
